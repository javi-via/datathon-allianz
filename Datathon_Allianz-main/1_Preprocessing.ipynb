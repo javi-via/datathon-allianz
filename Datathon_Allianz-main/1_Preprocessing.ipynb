{
 "cells": [
  {
   "cell_type": "markdown",
   "id": "77665fb9",
   "metadata": {},
   "source": [
    "## 1. Loading libraries"
   ]
  },
  {
   "cell_type": "code",
   "execution_count": 44,
   "id": "27968157",
   "metadata": {},
   "outputs": [],
   "source": [
    "# Load libraries\n",
    "\n",
    "import pandas as pd\n",
    "import numpy as np  \n",
    "\n",
    "# Ignore warnings\n",
    "\n",
    "import warnings\n",
    "warnings.filterwarnings('ignore')"
   ]
  },
  {
   "cell_type": "markdown",
   "id": "84e61b8e",
   "metadata": {},
   "source": [
    "## 2. Import of data"
   ]
  },
  {
   "cell_type": "code",
   "execution_count": 75,
   "id": "353d68c4",
   "metadata": {},
   "outputs": [],
   "source": [
    "# Import the adress, main, paid_record csv files.\n",
    "\n",
    "address = pd.read_csv('data/raw/address.csv')\n",
    "main = pd.read_csv('data/raw/main.csv')\n",
    "paid_record = pd.read_csv('data/raw/paid_record.csv')"
   ]
  },
  {
   "cell_type": "markdown",
   "id": "af901b37",
   "metadata": {},
   "source": [
    "### 2.1 Analysis of duplicates and nulls"
   ]
  },
  {
   "cell_type": "markdown",
   "id": "b07c329b",
   "metadata": {},
   "source": [
    "#### 2.1.1 Address"
   ]
  },
  {
   "cell_type": "code",
   "execution_count": 46,
   "id": "a9607540",
   "metadata": {},
   "outputs": [
    {
     "data": {
      "text/plain": [
       "New_ID     0\n",
       "ADDRESS    0\n",
       "dtype: int64"
      ]
     },
     "execution_count": 46,
     "metadata": {},
     "output_type": "execute_result"
    }
   ],
   "source": [
    "# Check address duplicates\n",
    "\n",
    "address[address.duplicated()]\n",
    "\n",
    "# Check address null values\n",
    "\n",
    "address.isnull().sum()"
   ]
  },
  {
   "cell_type": "code",
   "execution_count": 47,
   "id": "2fd29bf7",
   "metadata": {},
   "outputs": [
    {
     "data": {
      "text/plain": [
       "New_ID     438652\n",
       "ADDRESS      6440\n",
       "dtype: int64"
      ]
     },
     "execution_count": 47,
     "metadata": {},
     "output_type": "execute_result"
    }
   ],
   "source": [
    "# Check unique values of address\n",
    "\n",
    "address.nunique()\n"
   ]
  },
  {
   "cell_type": "code",
   "execution_count": 48,
   "id": "b5d688c1",
   "metadata": {},
   "outputs": [
    {
     "data": {
      "text/html": [
       "<div>\n",
       "<style scoped>\n",
       "    .dataframe tbody tr th:only-of-type {\n",
       "        vertical-align: middle;\n",
       "    }\n",
       "\n",
       "    .dataframe tbody tr th {\n",
       "        vertical-align: top;\n",
       "    }\n",
       "\n",
       "    .dataframe thead th {\n",
       "        text-align: right;\n",
       "    }\n",
       "</style>\n",
       "<table border=\"1\" class=\"dataframe\">\n",
       "  <thead>\n",
       "    <tr style=\"text-align: right;\">\n",
       "      <th></th>\n",
       "      <th>New_ID</th>\n",
       "      <th>ADDRESS</th>\n",
       "    </tr>\n",
       "  </thead>\n",
       "  <tbody>\n",
       "    <tr>\n",
       "      <th>438657</th>\n",
       "      <td>6477848</td>\n",
       "      <td>6702 Johnny Mercer Boulevard, 31410, GA</td>\n",
       "    </tr>\n",
       "    <tr>\n",
       "      <th>438658</th>\n",
       "      <td>6779547</td>\n",
       "      <td>06040, CT, 739 Center Street</td>\n",
       "    </tr>\n",
       "    <tr>\n",
       "      <th>438659</th>\n",
       "      <td>6691705</td>\n",
       "      <td>68 Hampstead Place, 01331, MA</td>\n",
       "    </tr>\n",
       "    <tr>\n",
       "      <th>438660</th>\n",
       "      <td>6747064</td>\n",
       "      <td>9 Brooklyn Street, 05488, VT</td>\n",
       "    </tr>\n",
       "    <tr>\n",
       "      <th>438661</th>\n",
       "      <td>5559115</td>\n",
       "      <td>713 East 32nd Street, 31401, GA</td>\n",
       "    </tr>\n",
       "    <tr>\n",
       "      <th>...</th>\n",
       "      <td>...</td>\n",
       "      <td>...</td>\n",
       "    </tr>\n",
       "    <tr>\n",
       "      <th>438752</th>\n",
       "      <td>5680433</td>\n",
       "      <td>37080, TN, 7730 Wilkinson Road</td>\n",
       "    </tr>\n",
       "    <tr>\n",
       "      <th>438753</th>\n",
       "      <td>5353755</td>\n",
       "      <td>2815 Saint Edwards Drive, 37211, TN</td>\n",
       "    </tr>\n",
       "    <tr>\n",
       "      <th>438754</th>\n",
       "      <td>5689895</td>\n",
       "      <td>85306, AZ, 5434 West Beck Lane</td>\n",
       "    </tr>\n",
       "    <tr>\n",
       "      <th>438755</th>\n",
       "      <td>5833391</td>\n",
       "      <td>05641, VT, 21 Hill Street</td>\n",
       "    </tr>\n",
       "    <tr>\n",
       "      <th>438756</th>\n",
       "      <td>6395895</td>\n",
       "      <td>73120, OK, 2316 Northwest 113th Street</td>\n",
       "    </tr>\n",
       "  </tbody>\n",
       "</table>\n",
       "<p>100 rows × 2 columns</p>\n",
       "</div>"
      ],
      "text/plain": [
       "         New_ID                                  ADDRESS\n",
       "438657  6477848  6702 Johnny Mercer Boulevard, 31410, GA\n",
       "438658  6779547             06040, CT, 739 Center Street\n",
       "438659  6691705            68 Hampstead Place, 01331, MA\n",
       "438660  6747064             9 Brooklyn Street, 05488, VT\n",
       "438661  5559115          713 East 32nd Street, 31401, GA\n",
       "...         ...                                      ...\n",
       "438752  5680433           37080, TN, 7730 Wilkinson Road\n",
       "438753  5353755      2815 Saint Edwards Drive, 37211, TN\n",
       "438754  5689895           85306, AZ, 5434 West Beck Lane\n",
       "438755  5833391                05641, VT, 21 Hill Street\n",
       "438756  6395895   73120, OK, 2316 Northwest 113th Street\n",
       "\n",
       "[100 rows x 2 columns]"
      ]
     },
     "execution_count": 48,
     "metadata": {},
     "output_type": "execute_result"
    }
   ],
   "source": [
    "# Check duplicates of address\n",
    "\n",
    "address[address.duplicated()]\n"
   ]
  },
  {
   "cell_type": "markdown",
   "id": "50651000",
   "metadata": {},
   "source": [
    "Remove duplicate values"
   ]
  },
  {
   "cell_type": "code",
   "execution_count": 49,
   "id": "d6bd1483",
   "metadata": {},
   "outputs": [
    {
     "data": {
      "text/html": [
       "<div>\n",
       "<style scoped>\n",
       "    .dataframe tbody tr th:only-of-type {\n",
       "        vertical-align: middle;\n",
       "    }\n",
       "\n",
       "    .dataframe tbody tr th {\n",
       "        vertical-align: top;\n",
       "    }\n",
       "\n",
       "    .dataframe thead th {\n",
       "        text-align: right;\n",
       "    }\n",
       "</style>\n",
       "<table border=\"1\" class=\"dataframe\">\n",
       "  <thead>\n",
       "    <tr style=\"text-align: right;\">\n",
       "      <th></th>\n",
       "      <th>New_ID</th>\n",
       "      <th>ADDRESS</th>\n",
       "    </tr>\n",
       "  </thead>\n",
       "  <tbody>\n",
       "    <tr>\n",
       "      <th>0</th>\n",
       "      <td>5008804L</td>\n",
       "      <td>06042, CT, 31 Mitchell Road</td>\n",
       "    </tr>\n",
       "    <tr>\n",
       "      <th>1</th>\n",
       "      <td>5008805G</td>\n",
       "      <td>72703, AR, 1189 Northwest End Avenue</td>\n",
       "    </tr>\n",
       "    <tr>\n",
       "      <th>2</th>\n",
       "      <td>5008806D</td>\n",
       "      <td>72701, AR, 218 Shipley Alley</td>\n",
       "    </tr>\n",
       "    <tr>\n",
       "      <th>3</th>\n",
       "      <td>5008808I</td>\n",
       "      <td>3138 P Street Northwest, 20007, DC</td>\n",
       "    </tr>\n",
       "    <tr>\n",
       "      <th>4</th>\n",
       "      <td>5008809Z</td>\n",
       "      <td>2405 230th Street, 21122, MD</td>\n",
       "    </tr>\n",
       "  </tbody>\n",
       "</table>\n",
       "</div>"
      ],
      "text/plain": [
       "     New_ID                               ADDRESS\n",
       "0  5008804L           06042, CT, 31 Mitchell Road\n",
       "1  5008805G  72703, AR, 1189 Northwest End Avenue\n",
       "2  5008806D          72701, AR, 218 Shipley Alley\n",
       "3  5008808I    3138 P Street Northwest, 20007, DC\n",
       "4  5008809Z          2405 230th Street, 21122, MD"
      ]
     },
     "execution_count": 49,
     "metadata": {},
     "output_type": "execute_result"
    }
   ],
   "source": [
    "# Check duplicates of address\n",
    "\n",
    "address[address.duplicated()]\n",
    "\n",
    "# Show the duplicates in New_id sorted by New_id\n",
    "\n",
    "address[address.New_ID.duplicated()].sort_values(by=['New_ID'])\n",
    "\n",
    "# Drop the duplicates in New_id\n",
    "\n",
    "address.drop_duplicates(subset=['New_ID'], inplace=True)\n",
    "\n",
    "# Head of address\n",
    "\n",
    "address.head()\n"
   ]
  },
  {
   "cell_type": "markdown",
   "id": "432fa8fa",
   "metadata": {},
   "source": [
    "Since we only want the identifier without the initial letter, we proceed to remove it."
   ]
  },
  {
   "cell_type": "code",
   "execution_count": 50,
   "id": "fecb8800",
   "metadata": {},
   "outputs": [
    {
     "data": {
      "text/html": [
       "<div>\n",
       "<style scoped>\n",
       "    .dataframe tbody tr th:only-of-type {\n",
       "        vertical-align: middle;\n",
       "    }\n",
       "\n",
       "    .dataframe tbody tr th {\n",
       "        vertical-align: top;\n",
       "    }\n",
       "\n",
       "    .dataframe thead th {\n",
       "        text-align: right;\n",
       "    }\n",
       "</style>\n",
       "<table border=\"1\" class=\"dataframe\">\n",
       "  <thead>\n",
       "    <tr style=\"text-align: right;\">\n",
       "      <th></th>\n",
       "      <th>New_ID</th>\n",
       "      <th>ADDRESS</th>\n",
       "    </tr>\n",
       "  </thead>\n",
       "  <tbody>\n",
       "    <tr>\n",
       "      <th>0</th>\n",
       "      <td>5008804</td>\n",
       "      <td>06042, CT, 31 Mitchell Road</td>\n",
       "    </tr>\n",
       "    <tr>\n",
       "      <th>1</th>\n",
       "      <td>5008805</td>\n",
       "      <td>72703, AR, 1189 Northwest End Avenue</td>\n",
       "    </tr>\n",
       "    <tr>\n",
       "      <th>2</th>\n",
       "      <td>5008806</td>\n",
       "      <td>72701, AR, 218 Shipley Alley</td>\n",
       "    </tr>\n",
       "    <tr>\n",
       "      <th>3</th>\n",
       "      <td>5008808</td>\n",
       "      <td>3138 P Street Northwest, 20007, DC</td>\n",
       "    </tr>\n",
       "    <tr>\n",
       "      <th>4</th>\n",
       "      <td>5008809</td>\n",
       "      <td>2405 230th Street, 21122, MD</td>\n",
       "    </tr>\n",
       "  </tbody>\n",
       "</table>\n",
       "</div>"
      ],
      "text/plain": [
       "    New_ID                               ADDRESS\n",
       "0  5008804           06042, CT, 31 Mitchell Road\n",
       "1  5008805  72703, AR, 1189 Northwest End Avenue\n",
       "2  5008806          72701, AR, 218 Shipley Alley\n",
       "3  5008808    3138 P Street Northwest, 20007, DC\n",
       "4  5008809          2405 230th Street, 21122, MD"
      ]
     },
     "execution_count": 50,
     "metadata": {},
     "output_type": "execute_result"
    }
   ],
   "source": [
    "# If there is a letter in New_ID, delete it\n",
    "\n",
    "address['New_ID'] = address['New_ID'].str.replace('[a-zA-Z]', '')\n",
    "\n",
    "# Head of address\n",
    "\n",
    "address.head()"
   ]
  },
  {
   "cell_type": "code",
   "execution_count": 51,
   "id": "c1b834ac",
   "metadata": {},
   "outputs": [
    {
     "name": "stdout",
     "output_type": "stream",
     "text": [
      "The dataset of address has 438652 rows and 2 columns\n"
     ]
    }
   ],
   "source": [
    "# Shape of address.\n",
    "\n",
    "print('The dataset of address has {} rows and {} columns'.format(address.shape[0], address.shape[1]))"
   ]
  },
  {
   "cell_type": "markdown",
   "id": "dc16ac94",
   "metadata": {},
   "source": [
    "We will call the variable related to the ID in all datasets `ID`."
   ]
  },
  {
   "cell_type": "code",
   "execution_count": 52,
   "id": "4837035d",
   "metadata": {},
   "outputs": [],
   "source": [
    "# Rename New_ID to ID.\n",
    "\n",
    "address.rename(columns={'New_ID': 'ID'}, inplace=True)"
   ]
  },
  {
   "cell_type": "code",
   "execution_count": 53,
   "id": "623c7c75",
   "metadata": {},
   "outputs": [
    {
     "data": {
      "text/plain": [
       "ID         object\n",
       "ADDRESS    object\n",
       "dtype: object"
      ]
     },
     "execution_count": 53,
     "metadata": {},
     "output_type": "execute_result"
    }
   ],
   "source": [
    "# Type of data in address.\n",
    "\n",
    "address.dtypes"
   ]
  },
  {
   "cell_type": "markdown",
   "id": "e29d905a",
   "metadata": {},
   "source": [
    "Since the IDs are in object format, we convert them to numeric format."
   ]
  },
  {
   "cell_type": "code",
   "execution_count": 54,
   "id": "08c9b4b6",
   "metadata": {},
   "outputs": [],
   "source": [
    "# Change ID to numeric.\n",
    "\n",
    "address['ID'] = pd.to_numeric(address['ID'])"
   ]
  },
  {
   "cell_type": "markdown",
   "id": "637e05e5",
   "metadata": {},
   "source": [
    "#### 2.1.2 Main"
   ]
  },
  {
   "cell_type": "markdown",
   "id": "291c05e7",
   "metadata": {},
   "source": [
    "Delete duplicates of main"
   ]
  },
  {
   "cell_type": "code",
   "execution_count": 55,
   "id": "d128688e",
   "metadata": {},
   "outputs": [
    {
     "name": "stdout",
     "output_type": "stream",
     "text": [
      "The dataset of address has 438510 rows and 19 columns\n"
     ]
    }
   ],
   "source": [
    "#Show the duplciates of main by Main_ID.\n",
    "\n",
    "main[main.Main_ID.duplicated()].sort_values(by=['Main_ID'])\n",
    "\n",
    "# Drop the duplicates of main by Main_ID.\n",
    "\n",
    "main.drop_duplicates(subset=['Main_ID'], inplace=True)\n",
    "\n",
    "# Shape of main.\n",
    "\n",
    "print('The dataset of address has {} rows and {} columns'.format(main.shape[0], main.shape[1]))"
   ]
  },
  {
   "cell_type": "markdown",
   "id": "fc44f8d8",
   "metadata": {},
   "source": [
    "Modify the title of the identifier variable to ID"
   ]
  },
  {
   "cell_type": "code",
   "execution_count": 56,
   "id": "6531b487",
   "metadata": {},
   "outputs": [],
   "source": [
    "# Change the variable Main_ID to ID.\n",
    "\n",
    "main.rename(columns={'Main_ID': 'ID'}, inplace=True)"
   ]
  },
  {
   "cell_type": "markdown",
   "id": "198447c5",
   "metadata": {},
   "source": [
    "We unify the two tables analysed into one table."
   ]
  },
  {
   "cell_type": "code",
   "execution_count": 57,
   "id": "657ebd55",
   "metadata": {},
   "outputs": [
    {
     "data": {
      "text/html": [
       "<div>\n",
       "<style scoped>\n",
       "    .dataframe tbody tr th:only-of-type {\n",
       "        vertical-align: middle;\n",
       "    }\n",
       "\n",
       "    .dataframe tbody tr th {\n",
       "        vertical-align: top;\n",
       "    }\n",
       "\n",
       "    .dataframe thead th {\n",
       "        text-align: right;\n",
       "    }\n",
       "</style>\n",
       "<table border=\"1\" class=\"dataframe\">\n",
       "  <thead>\n",
       "    <tr style=\"text-align: right;\">\n",
       "      <th></th>\n",
       "      <th>ID</th>\n",
       "      <th>ADDRESS</th>\n",
       "      <th>CODE_GENDER</th>\n",
       "      <th>FLAG_OWN_CAR</th>\n",
       "      <th>FLAG_OWN_REALTY</th>\n",
       "      <th>CNT_CHILDREN</th>\n",
       "      <th>AMT_INCOME_TOTAL</th>\n",
       "      <th>NAME_INCOME_TYPE</th>\n",
       "      <th>NAME_EDUCATION_TYPE</th>\n",
       "      <th>NAME_FAMILY_STATUS</th>\n",
       "      <th>NAME_HOUSING_TYPE</th>\n",
       "      <th>DAYS_EMPLOYED</th>\n",
       "      <th>FLAG_MOBIL</th>\n",
       "      <th>FLAG_WORK_PHONE</th>\n",
       "      <th>FLAG_PHONE</th>\n",
       "      <th>FLAG_EMAIL</th>\n",
       "      <th>OCCUPATION_TYPE</th>\n",
       "      <th>CNT_FAM_MEMBERS</th>\n",
       "      <th>DAYS_BIRTH_CLEAN</th>\n",
       "      <th>Letter</th>\n",
       "    </tr>\n",
       "  </thead>\n",
       "  <tbody>\n",
       "    <tr>\n",
       "      <th>0</th>\n",
       "      <td>5008804</td>\n",
       "      <td>06042, CT, 31 Mitchell Road</td>\n",
       "      <td>M</td>\n",
       "      <td>Y</td>\n",
       "      <td>Y</td>\n",
       "      <td>0.0</td>\n",
       "      <td>427500.0</td>\n",
       "      <td>Working</td>\n",
       "      <td>Higher education</td>\n",
       "      <td>Civil marriage</td>\n",
       "      <td>Rented apartment</td>\n",
       "      <td>-4542.0</td>\n",
       "      <td>1.0</td>\n",
       "      <td>1.0</td>\n",
       "      <td>0.0</td>\n",
       "      <td>0.0</td>\n",
       "      <td>NaN</td>\n",
       "      <td>2.0</td>\n",
       "      <td>09/04/1990</td>\n",
       "      <td>L</td>\n",
       "    </tr>\n",
       "    <tr>\n",
       "      <th>1</th>\n",
       "      <td>5008805</td>\n",
       "      <td>72703, AR, 1189 Northwest End Avenue</td>\n",
       "      <td>M</td>\n",
       "      <td>Y</td>\n",
       "      <td>Y</td>\n",
       "      <td>0.0</td>\n",
       "      <td>427500.0</td>\n",
       "      <td>Working</td>\n",
       "      <td>Higher education</td>\n",
       "      <td>Civil marriage</td>\n",
       "      <td>Rented apartment</td>\n",
       "      <td>-4542.0</td>\n",
       "      <td>1.0</td>\n",
       "      <td>1.0</td>\n",
       "      <td>0.0</td>\n",
       "      <td>0.0</td>\n",
       "      <td>NaN</td>\n",
       "      <td>2.0</td>\n",
       "      <td>09/04/1990</td>\n",
       "      <td>G</td>\n",
       "    </tr>\n",
       "    <tr>\n",
       "      <th>2</th>\n",
       "      <td>5008806</td>\n",
       "      <td>72701, AR, 218 Shipley Alley</td>\n",
       "      <td>M</td>\n",
       "      <td>Y</td>\n",
       "      <td>Y</td>\n",
       "      <td>0.0</td>\n",
       "      <td>112500.0</td>\n",
       "      <td>Working</td>\n",
       "      <td>Secondary / secondary special</td>\n",
       "      <td>Married</td>\n",
       "      <td>House / apartment</td>\n",
       "      <td>-1134.0</td>\n",
       "      <td>1.0</td>\n",
       "      <td>0.0</td>\n",
       "      <td>0.0</td>\n",
       "      <td>0.0</td>\n",
       "      <td>Security staff</td>\n",
       "      <td>2.0</td>\n",
       "      <td>06/05/1964</td>\n",
       "      <td>D</td>\n",
       "    </tr>\n",
       "    <tr>\n",
       "      <th>3</th>\n",
       "      <td>5008808</td>\n",
       "      <td>3138 P Street Northwest, 20007, DC</td>\n",
       "      <td>F</td>\n",
       "      <td>N</td>\n",
       "      <td>Y</td>\n",
       "      <td>0.0</td>\n",
       "      <td>270000.0</td>\n",
       "      <td>Commercial associate</td>\n",
       "      <td>Secondary / secondary special</td>\n",
       "      <td>Single / not married</td>\n",
       "      <td>House / apartment</td>\n",
       "      <td>-3051.0</td>\n",
       "      <td>1.0</td>\n",
       "      <td>0.0</td>\n",
       "      <td>1.0</td>\n",
       "      <td>1.0</td>\n",
       "      <td>Sales staff</td>\n",
       "      <td>1.0</td>\n",
       "      <td>26/10/1970</td>\n",
       "      <td>I</td>\n",
       "    </tr>\n",
       "    <tr>\n",
       "      <th>4</th>\n",
       "      <td>5008809</td>\n",
       "      <td>2405 230th Street, 21122, MD</td>\n",
       "      <td>F</td>\n",
       "      <td>NaN</td>\n",
       "      <td>Y</td>\n",
       "      <td>0.0</td>\n",
       "      <td>270000.0</td>\n",
       "      <td>Commercial associate</td>\n",
       "      <td>Secondary / secondary special</td>\n",
       "      <td>Single / not married</td>\n",
       "      <td>House / apartment</td>\n",
       "      <td>-3051.0</td>\n",
       "      <td>1.0</td>\n",
       "      <td>0.0</td>\n",
       "      <td>1.0</td>\n",
       "      <td>1.0</td>\n",
       "      <td>Sales staff</td>\n",
       "      <td>1.0</td>\n",
       "      <td>26/10/1970</td>\n",
       "      <td>Z</td>\n",
       "    </tr>\n",
       "  </tbody>\n",
       "</table>\n",
       "</div>"
      ],
      "text/plain": [
       "        ID                               ADDRESS CODE_GENDER FLAG_OWN_CAR  \\\n",
       "0  5008804           06042, CT, 31 Mitchell Road           M            Y   \n",
       "1  5008805  72703, AR, 1189 Northwest End Avenue           M            Y   \n",
       "2  5008806          72701, AR, 218 Shipley Alley           M            Y   \n",
       "3  5008808    3138 P Street Northwest, 20007, DC           F            N   \n",
       "4  5008809          2405 230th Street, 21122, MD           F          NaN   \n",
       "\n",
       "  FLAG_OWN_REALTY  CNT_CHILDREN  AMT_INCOME_TOTAL      NAME_INCOME_TYPE  \\\n",
       "0               Y           0.0          427500.0               Working   \n",
       "1               Y           0.0          427500.0               Working   \n",
       "2               Y           0.0          112500.0               Working   \n",
       "3               Y           0.0          270000.0  Commercial associate   \n",
       "4               Y           0.0          270000.0  Commercial associate   \n",
       "\n",
       "             NAME_EDUCATION_TYPE    NAME_FAMILY_STATUS  NAME_HOUSING_TYPE  \\\n",
       "0               Higher education        Civil marriage   Rented apartment   \n",
       "1               Higher education        Civil marriage   Rented apartment   \n",
       "2  Secondary / secondary special               Married  House / apartment   \n",
       "3  Secondary / secondary special  Single / not married  House / apartment   \n",
       "4  Secondary / secondary special  Single / not married  House / apartment   \n",
       "\n",
       "   DAYS_EMPLOYED  FLAG_MOBIL  FLAG_WORK_PHONE  FLAG_PHONE  FLAG_EMAIL  \\\n",
       "0        -4542.0         1.0              1.0         0.0         0.0   \n",
       "1        -4542.0         1.0              1.0         0.0         0.0   \n",
       "2        -1134.0         1.0              0.0         0.0         0.0   \n",
       "3        -3051.0         1.0              0.0         1.0         1.0   \n",
       "4        -3051.0         1.0              0.0         1.0         1.0   \n",
       "\n",
       "  OCCUPATION_TYPE  CNT_FAM_MEMBERS DAYS_BIRTH_CLEAN Letter  \n",
       "0             NaN              2.0       09/04/1990      L  \n",
       "1             NaN              2.0       09/04/1990      G  \n",
       "2  Security staff              2.0       06/05/1964      D  \n",
       "3     Sales staff              1.0       26/10/1970      I  \n",
       "4     Sales staff              1.0       26/10/1970      Z  "
      ]
     },
     "execution_count": 57,
     "metadata": {},
     "output_type": "execute_result"
    }
   ],
   "source": [
    "# Merge address and main by ID.\n",
    "\n",
    "df = pd.merge(address, main, on='ID', how='inner')\n",
    "\n",
    "# Head of df.\n",
    "\n",
    "df.head()"
   ]
  },
  {
   "cell_type": "code",
   "execution_count": 58,
   "id": "41939353",
   "metadata": {},
   "outputs": [
    {
     "name": "stdout",
     "output_type": "stream",
     "text": [
      "The dataset of address has 438652 rows and 20 columns\n"
     ]
    }
   ],
   "source": [
    "# Shape of df.\n",
    "\n",
    "print('The dataset of address has {} rows and {} columns'.format(df.shape[0], df.shape[1]))"
   ]
  },
  {
   "cell_type": "markdown",
   "id": "2627195e",
   "metadata": {},
   "source": [
    "#### 2.1.3 Paid_record"
   ]
  },
  {
   "cell_type": "code",
   "execution_count": 59,
   "id": "00b85806",
   "metadata": {},
   "outputs": [
    {
     "data": {
      "text/html": [
       "<div>\n",
       "<style scoped>\n",
       "    .dataframe tbody tr th:only-of-type {\n",
       "        vertical-align: middle;\n",
       "    }\n",
       "\n",
       "    .dataframe tbody tr th {\n",
       "        vertical-align: top;\n",
       "    }\n",
       "\n",
       "    .dataframe thead th {\n",
       "        text-align: right;\n",
       "    }\n",
       "</style>\n",
       "<table border=\"1\" class=\"dataframe\">\n",
       "  <thead>\n",
       "    <tr style=\"text-align: right;\">\n",
       "      <th></th>\n",
       "      <th>ID</th>\n",
       "      <th>MONTHS_BALANCE</th>\n",
       "      <th>STATUS</th>\n",
       "    </tr>\n",
       "  </thead>\n",
       "  <tbody>\n",
       "    <tr>\n",
       "      <th>0</th>\n",
       "      <td>5001711</td>\n",
       "      <td>0</td>\n",
       "      <td>X</td>\n",
       "    </tr>\n",
       "    <tr>\n",
       "      <th>1</th>\n",
       "      <td>5001711</td>\n",
       "      <td>-1</td>\n",
       "      <td>0</td>\n",
       "    </tr>\n",
       "    <tr>\n",
       "      <th>2</th>\n",
       "      <td>5001711</td>\n",
       "      <td>-2</td>\n",
       "      <td>0</td>\n",
       "    </tr>\n",
       "    <tr>\n",
       "      <th>3</th>\n",
       "      <td>5001711</td>\n",
       "      <td>-3</td>\n",
       "      <td>0</td>\n",
       "    </tr>\n",
       "    <tr>\n",
       "      <th>4</th>\n",
       "      <td>5001712</td>\n",
       "      <td>0</td>\n",
       "      <td>C</td>\n",
       "    </tr>\n",
       "  </tbody>\n",
       "</table>\n",
       "</div>"
      ],
      "text/plain": [
       "        ID  MONTHS_BALANCE STATUS\n",
       "0  5001711               0      X\n",
       "1  5001711              -1      0\n",
       "2  5001711              -2      0\n",
       "3  5001711              -3      0\n",
       "4  5001712               0      C"
      ]
     },
     "execution_count": 59,
     "metadata": {},
     "output_type": "execute_result"
    }
   ],
   "source": [
    "# Head of paid_record.\n",
    "\n",
    "paid_record.head()\n"
   ]
  },
  {
   "cell_type": "markdown",
   "id": "70e9191f",
   "metadata": {},
   "source": [
    "From this dataset, we will obtain the target variable to work with. We will consider 0 (Good payer) for those who have paid their quota and 1 (Bad payer) for those who are late in their payments."
   ]
  },
  {
   "cell_type": "code",
   "execution_count": 60,
   "id": "9dc6b7d8",
   "metadata": {},
   "outputs": [
    {
     "data": {
      "text/html": [
       "<div>\n",
       "<style scoped>\n",
       "    .dataframe tbody tr th:only-of-type {\n",
       "        vertical-align: middle;\n",
       "    }\n",
       "\n",
       "    .dataframe tbody tr th {\n",
       "        vertical-align: top;\n",
       "    }\n",
       "\n",
       "    .dataframe thead th {\n",
       "        text-align: right;\n",
       "    }\n",
       "</style>\n",
       "<table border=\"1\" class=\"dataframe\">\n",
       "  <thead>\n",
       "    <tr style=\"text-align: right;\">\n",
       "      <th></th>\n",
       "      <th>ID</th>\n",
       "      <th>MONTHS_BALANCE</th>\n",
       "      <th>STATUS</th>\n",
       "    </tr>\n",
       "  </thead>\n",
       "  <tbody>\n",
       "    <tr>\n",
       "      <th>0</th>\n",
       "      <td>5001711</td>\n",
       "      <td>0</td>\n",
       "      <td>0</td>\n",
       "    </tr>\n",
       "    <tr>\n",
       "      <th>1</th>\n",
       "      <td>5001711</td>\n",
       "      <td>-1</td>\n",
       "      <td>0</td>\n",
       "    </tr>\n",
       "    <tr>\n",
       "      <th>2</th>\n",
       "      <td>5001711</td>\n",
       "      <td>-2</td>\n",
       "      <td>0</td>\n",
       "    </tr>\n",
       "    <tr>\n",
       "      <th>3</th>\n",
       "      <td>5001711</td>\n",
       "      <td>-3</td>\n",
       "      <td>0</td>\n",
       "    </tr>\n",
       "    <tr>\n",
       "      <th>4</th>\n",
       "      <td>5001712</td>\n",
       "      <td>0</td>\n",
       "      <td>0</td>\n",
       "    </tr>\n",
       "  </tbody>\n",
       "</table>\n",
       "</div>"
      ],
      "text/plain": [
       "        ID  MONTHS_BALANCE STATUS\n",
       "0  5001711               0      0\n",
       "1  5001711              -1      0\n",
       "2  5001711              -2      0\n",
       "3  5001711              -3      0\n",
       "4  5001712               0      0"
      ]
     },
     "execution_count": 60,
     "metadata": {},
     "output_type": "execute_result"
    }
   ],
   "source": [
    "# Replace C and X for 0\n",
    "\n",
    "paid_record['STATUS'] = paid_record['STATUS'].str.replace('C', '0')\n",
    "\n",
    "paid_record['STATUS'] = paid_record['STATUS'].str.replace('X', '0')\n",
    "\n",
    "# Head of paid_record\n",
    "\n",
    "paid_record.head()\n",
    "\n"
   ]
  },
  {
   "cell_type": "code",
   "execution_count": 61,
   "id": "8d92ca69",
   "metadata": {},
   "outputs": [
    {
     "data": {
      "text/plain": [
       "ID                 int64\n",
       "MONTHS_BALANCE     int64\n",
       "STATUS            object\n",
       "dtype: object"
      ]
     },
     "execution_count": 61,
     "metadata": {},
     "output_type": "execute_result"
    }
   ],
   "source": [
    "# Check type of data of test\n",
    "\n",
    "paid_record.dtypes"
   ]
  },
  {
   "cell_type": "markdown",
   "id": "b3a1fcb2",
   "metadata": {},
   "source": [
    "We transform the values of the variable `Status` into integers."
   ]
  },
  {
   "cell_type": "code",
   "execution_count": 62,
   "id": "8cf4d8df",
   "metadata": {},
   "outputs": [],
   "source": [
    "# Convert the 'STATUS' values to int\n",
    "\n",
    "paid_record['STATUS'] = paid_record['STATUS'].astype(int)"
   ]
  },
  {
   "cell_type": "code",
   "execution_count": 63,
   "id": "5c206a66",
   "metadata": {},
   "outputs": [
    {
     "data": {
      "text/plain": [
       "ID                int64\n",
       "MONTHS_BALANCE    int64\n",
       "STATUS            int32\n",
       "dtype: object"
      ]
     },
     "execution_count": 63,
     "metadata": {},
     "output_type": "execute_result"
    }
   ],
   "source": [
    "# Check type of data of test\n",
    "\n",
    "paid_record.dtypes"
   ]
  },
  {
   "cell_type": "code",
   "execution_count": 65,
   "id": "71a068ca",
   "metadata": {},
   "outputs": [],
   "source": [
    "# Pivot table of paid_record\n",
    "\n",
    "paid_record = pd.pivot_table(paid_record, values='STATUS', index=['ID'], aggfunc=np.sum)\n"
   ]
  },
  {
   "cell_type": "code",
   "execution_count": 68,
   "id": "146e3d01",
   "metadata": {},
   "outputs": [
    {
     "data": {
      "text/html": [
       "<div>\n",
       "<style scoped>\n",
       "    .dataframe tbody tr th:only-of-type {\n",
       "        vertical-align: middle;\n",
       "    }\n",
       "\n",
       "    .dataframe tbody tr th {\n",
       "        vertical-align: top;\n",
       "    }\n",
       "\n",
       "    .dataframe thead th {\n",
       "        text-align: right;\n",
       "    }\n",
       "</style>\n",
       "<table border=\"1\" class=\"dataframe\">\n",
       "  <thead>\n",
       "    <tr style=\"text-align: right;\">\n",
       "      <th></th>\n",
       "      <th>STATUS</th>\n",
       "    </tr>\n",
       "    <tr>\n",
       "      <th>ID</th>\n",
       "      <th></th>\n",
       "    </tr>\n",
       "  </thead>\n",
       "  <tbody>\n",
       "    <tr>\n",
       "      <th>5001711</th>\n",
       "      <td>0</td>\n",
       "    </tr>\n",
       "    <tr>\n",
       "      <th>5001712</th>\n",
       "      <td>0</td>\n",
       "    </tr>\n",
       "    <tr>\n",
       "      <th>5001713</th>\n",
       "      <td>0</td>\n",
       "    </tr>\n",
       "    <tr>\n",
       "      <th>5001714</th>\n",
       "      <td>0</td>\n",
       "    </tr>\n",
       "    <tr>\n",
       "      <th>5001715</th>\n",
       "      <td>0</td>\n",
       "    </tr>\n",
       "  </tbody>\n",
       "</table>\n",
       "</div>"
      ],
      "text/plain": [
       "         STATUS\n",
       "ID             \n",
       "5001711       0\n",
       "5001712       0\n",
       "5001713       0\n",
       "5001714       0\n",
       "5001715       0"
      ]
     },
     "execution_count": 68,
     "metadata": {},
     "output_type": "execute_result"
    }
   ],
   "source": [
    "# Show the head of paid_record\n",
    "\n",
    "paid_record.head()"
   ]
  },
  {
   "cell_type": "markdown",
   "id": "88acbaa3",
   "metadata": {},
   "source": [
    "We transform to 1 those that are not equal to 0."
   ]
  },
  {
   "cell_type": "code",
   "execution_count": 69,
   "id": "3d407797",
   "metadata": {},
   "outputs": [],
   "source": [
    "# If status isn't 0, change to 1\n",
    "\n",
    "paid_record['STATUS'] = paid_record['STATUS'].apply(lambda x: 1 if x != 0 else 0)"
   ]
  },
  {
   "cell_type": "markdown",
   "id": "36fb3524",
   "metadata": {},
   "source": [
    "We check the different values"
   ]
  },
  {
   "cell_type": "code",
   "execution_count": 70,
   "id": "54507a97",
   "metadata": {},
   "outputs": [
    {
     "data": {
      "text/plain": [
       "0    40635\n",
       "1     5350\n",
       "Name: STATUS, dtype: int64"
      ]
     },
     "execution_count": 70,
     "metadata": {},
     "output_type": "execute_result"
    }
   ],
   "source": [
    "# Distinct values of status\n",
    "\n",
    "paid_record['STATUS'].value_counts()"
   ]
  },
  {
   "cell_type": "markdown",
   "id": "5a33106d",
   "metadata": {},
   "source": [
    "## 3. Unification of the final table"
   ]
  },
  {
   "cell_type": "code",
   "execution_count": 72,
   "id": "2df8344d",
   "metadata": {},
   "outputs": [],
   "source": [
    "# Merge df and paid_record by ID\n",
    "\n",
    "final_df = pd.merge(df, paid_record, on='ID', how='inner')"
   ]
  },
  {
   "cell_type": "code",
   "execution_count": 74,
   "id": "4b784153",
   "metadata": {},
   "outputs": [
    {
     "name": "stdout",
     "output_type": "stream",
     "text": [
      "The dataset of address has 36462 rows and 21 columns\n"
     ]
    },
    {
     "data": {
      "text/html": [
       "<div>\n",
       "<style scoped>\n",
       "    .dataframe tbody tr th:only-of-type {\n",
       "        vertical-align: middle;\n",
       "    }\n",
       "\n",
       "    .dataframe tbody tr th {\n",
       "        vertical-align: top;\n",
       "    }\n",
       "\n",
       "    .dataframe thead th {\n",
       "        text-align: right;\n",
       "    }\n",
       "</style>\n",
       "<table border=\"1\" class=\"dataframe\">\n",
       "  <thead>\n",
       "    <tr style=\"text-align: right;\">\n",
       "      <th></th>\n",
       "      <th>ID</th>\n",
       "      <th>ADDRESS</th>\n",
       "      <th>CODE_GENDER</th>\n",
       "      <th>FLAG_OWN_CAR</th>\n",
       "      <th>FLAG_OWN_REALTY</th>\n",
       "      <th>CNT_CHILDREN</th>\n",
       "      <th>AMT_INCOME_TOTAL</th>\n",
       "      <th>NAME_INCOME_TYPE</th>\n",
       "      <th>NAME_EDUCATION_TYPE</th>\n",
       "      <th>NAME_FAMILY_STATUS</th>\n",
       "      <th>...</th>\n",
       "      <th>DAYS_EMPLOYED</th>\n",
       "      <th>FLAG_MOBIL</th>\n",
       "      <th>FLAG_WORK_PHONE</th>\n",
       "      <th>FLAG_PHONE</th>\n",
       "      <th>FLAG_EMAIL</th>\n",
       "      <th>OCCUPATION_TYPE</th>\n",
       "      <th>CNT_FAM_MEMBERS</th>\n",
       "      <th>DAYS_BIRTH_CLEAN</th>\n",
       "      <th>Letter</th>\n",
       "      <th>STATUS</th>\n",
       "    </tr>\n",
       "  </thead>\n",
       "  <tbody>\n",
       "    <tr>\n",
       "      <th>0</th>\n",
       "      <td>5008804</td>\n",
       "      <td>06042, CT, 31 Mitchell Road</td>\n",
       "      <td>M</td>\n",
       "      <td>Y</td>\n",
       "      <td>Y</td>\n",
       "      <td>0.0</td>\n",
       "      <td>427500.0</td>\n",
       "      <td>Working</td>\n",
       "      <td>Higher education</td>\n",
       "      <td>Civil marriage</td>\n",
       "      <td>...</td>\n",
       "      <td>-4542.0</td>\n",
       "      <td>1.0</td>\n",
       "      <td>1.0</td>\n",
       "      <td>0.0</td>\n",
       "      <td>0.0</td>\n",
       "      <td>NaN</td>\n",
       "      <td>2.0</td>\n",
       "      <td>09/04/1990</td>\n",
       "      <td>L</td>\n",
       "      <td>1</td>\n",
       "    </tr>\n",
       "    <tr>\n",
       "      <th>1</th>\n",
       "      <td>5008805</td>\n",
       "      <td>72703, AR, 1189 Northwest End Avenue</td>\n",
       "      <td>M</td>\n",
       "      <td>Y</td>\n",
       "      <td>Y</td>\n",
       "      <td>0.0</td>\n",
       "      <td>427500.0</td>\n",
       "      <td>Working</td>\n",
       "      <td>Higher education</td>\n",
       "      <td>Civil marriage</td>\n",
       "      <td>...</td>\n",
       "      <td>-4542.0</td>\n",
       "      <td>1.0</td>\n",
       "      <td>1.0</td>\n",
       "      <td>0.0</td>\n",
       "      <td>0.0</td>\n",
       "      <td>NaN</td>\n",
       "      <td>2.0</td>\n",
       "      <td>09/04/1990</td>\n",
       "      <td>G</td>\n",
       "      <td>1</td>\n",
       "    </tr>\n",
       "    <tr>\n",
       "      <th>2</th>\n",
       "      <td>5008806</td>\n",
       "      <td>72701, AR, 218 Shipley Alley</td>\n",
       "      <td>M</td>\n",
       "      <td>Y</td>\n",
       "      <td>Y</td>\n",
       "      <td>0.0</td>\n",
       "      <td>112500.0</td>\n",
       "      <td>Working</td>\n",
       "      <td>Secondary / secondary special</td>\n",
       "      <td>Married</td>\n",
       "      <td>...</td>\n",
       "      <td>-1134.0</td>\n",
       "      <td>1.0</td>\n",
       "      <td>0.0</td>\n",
       "      <td>0.0</td>\n",
       "      <td>0.0</td>\n",
       "      <td>Security staff</td>\n",
       "      <td>2.0</td>\n",
       "      <td>06/05/1964</td>\n",
       "      <td>D</td>\n",
       "      <td>0</td>\n",
       "    </tr>\n",
       "    <tr>\n",
       "      <th>3</th>\n",
       "      <td>5008808</td>\n",
       "      <td>3138 P Street Northwest, 20007, DC</td>\n",
       "      <td>F</td>\n",
       "      <td>N</td>\n",
       "      <td>Y</td>\n",
       "      <td>0.0</td>\n",
       "      <td>270000.0</td>\n",
       "      <td>Commercial associate</td>\n",
       "      <td>Secondary / secondary special</td>\n",
       "      <td>Single / not married</td>\n",
       "      <td>...</td>\n",
       "      <td>-3051.0</td>\n",
       "      <td>1.0</td>\n",
       "      <td>0.0</td>\n",
       "      <td>1.0</td>\n",
       "      <td>1.0</td>\n",
       "      <td>Sales staff</td>\n",
       "      <td>1.0</td>\n",
       "      <td>26/10/1970</td>\n",
       "      <td>I</td>\n",
       "      <td>0</td>\n",
       "    </tr>\n",
       "    <tr>\n",
       "      <th>4</th>\n",
       "      <td>5008809</td>\n",
       "      <td>2405 230th Street, 21122, MD</td>\n",
       "      <td>F</td>\n",
       "      <td>NaN</td>\n",
       "      <td>Y</td>\n",
       "      <td>0.0</td>\n",
       "      <td>270000.0</td>\n",
       "      <td>Commercial associate</td>\n",
       "      <td>Secondary / secondary special</td>\n",
       "      <td>Single / not married</td>\n",
       "      <td>...</td>\n",
       "      <td>-3051.0</td>\n",
       "      <td>1.0</td>\n",
       "      <td>0.0</td>\n",
       "      <td>1.0</td>\n",
       "      <td>1.0</td>\n",
       "      <td>Sales staff</td>\n",
       "      <td>1.0</td>\n",
       "      <td>26/10/1970</td>\n",
       "      <td>Z</td>\n",
       "      <td>0</td>\n",
       "    </tr>\n",
       "  </tbody>\n",
       "</table>\n",
       "<p>5 rows × 21 columns</p>\n",
       "</div>"
      ],
      "text/plain": [
       "        ID                               ADDRESS CODE_GENDER FLAG_OWN_CAR  \\\n",
       "0  5008804           06042, CT, 31 Mitchell Road           M            Y   \n",
       "1  5008805  72703, AR, 1189 Northwest End Avenue           M            Y   \n",
       "2  5008806          72701, AR, 218 Shipley Alley           M            Y   \n",
       "3  5008808    3138 P Street Northwest, 20007, DC           F            N   \n",
       "4  5008809          2405 230th Street, 21122, MD           F          NaN   \n",
       "\n",
       "  FLAG_OWN_REALTY  CNT_CHILDREN  AMT_INCOME_TOTAL      NAME_INCOME_TYPE  \\\n",
       "0               Y           0.0          427500.0               Working   \n",
       "1               Y           0.0          427500.0               Working   \n",
       "2               Y           0.0          112500.0               Working   \n",
       "3               Y           0.0          270000.0  Commercial associate   \n",
       "4               Y           0.0          270000.0  Commercial associate   \n",
       "\n",
       "             NAME_EDUCATION_TYPE    NAME_FAMILY_STATUS  ... DAYS_EMPLOYED  \\\n",
       "0               Higher education        Civil marriage  ...       -4542.0   \n",
       "1               Higher education        Civil marriage  ...       -4542.0   \n",
       "2  Secondary / secondary special               Married  ...       -1134.0   \n",
       "3  Secondary / secondary special  Single / not married  ...       -3051.0   \n",
       "4  Secondary / secondary special  Single / not married  ...       -3051.0   \n",
       "\n",
       "   FLAG_MOBIL  FLAG_WORK_PHONE  FLAG_PHONE  FLAG_EMAIL  OCCUPATION_TYPE  \\\n",
       "0         1.0              1.0         0.0         0.0              NaN   \n",
       "1         1.0              1.0         0.0         0.0              NaN   \n",
       "2         1.0              0.0         0.0         0.0   Security staff   \n",
       "3         1.0              0.0         1.0         1.0      Sales staff   \n",
       "4         1.0              0.0         1.0         1.0      Sales staff   \n",
       "\n",
       "  CNT_FAM_MEMBERS  DAYS_BIRTH_CLEAN Letter STATUS  \n",
       "0             2.0        09/04/1990      L      1  \n",
       "1             2.0        09/04/1990      G      1  \n",
       "2             2.0        06/05/1964      D      0  \n",
       "3             1.0        26/10/1970      I      0  \n",
       "4             1.0        26/10/1970      Z      0  \n",
       "\n",
       "[5 rows x 21 columns]"
      ]
     },
     "execution_count": 74,
     "metadata": {},
     "output_type": "execute_result"
    }
   ],
   "source": [
    "# Shape of final_df\n",
    "\n",
    "print('The dataset of address has {} rows and {} columns'.format(final_df.shape[0], final_df.shape[1]))\n",
    "\n",
    "# Head of final_df\n",
    "\n",
    "final_df.head()"
   ]
  },
  {
   "cell_type": "markdown",
   "id": "6df9fb29",
   "metadata": {},
   "source": [
    "Proceed to export the Dataframe to CSV"
   ]
  },
  {
   "cell_type": "code",
   "execution_count": 176,
   "id": "865e34a5",
   "metadata": {},
   "outputs": [],
   "source": [
    "# Export final_df to csv\n",
    "\n",
    "final_df.to_csv('data/processed/final_df.csv', index=False)"
   ]
  },
  {
   "cell_type": "markdown",
   "id": "fce748d3",
   "metadata": {},
   "source": [
    "## 4. (Extra) Multilabel Board"
   ]
  },
  {
   "cell_type": "code",
   "execution_count": 94,
   "id": "3e121250",
   "metadata": {},
   "outputs": [],
   "source": [
    "# Load paid_record\n",
    "\n",
    "paid_record = pd.read_csv('data/raw/paid_record.csv')"
   ]
  },
  {
   "cell_type": "code",
   "execution_count": 95,
   "id": "9038adbf",
   "metadata": {},
   "outputs": [
    {
     "data": {
      "text/html": [
       "<div>\n",
       "<style scoped>\n",
       "    .dataframe tbody tr th:only-of-type {\n",
       "        vertical-align: middle;\n",
       "    }\n",
       "\n",
       "    .dataframe tbody tr th {\n",
       "        vertical-align: top;\n",
       "    }\n",
       "\n",
       "    .dataframe thead th {\n",
       "        text-align: right;\n",
       "    }\n",
       "</style>\n",
       "<table border=\"1\" class=\"dataframe\">\n",
       "  <thead>\n",
       "    <tr style=\"text-align: right;\">\n",
       "      <th></th>\n",
       "      <th>ID</th>\n",
       "      <th>MONTHS_BALANCE</th>\n",
       "      <th>STATUS</th>\n",
       "    </tr>\n",
       "  </thead>\n",
       "  <tbody>\n",
       "    <tr>\n",
       "      <th>0</th>\n",
       "      <td>5001711</td>\n",
       "      <td>0</td>\n",
       "      <td>X</td>\n",
       "    </tr>\n",
       "    <tr>\n",
       "      <th>1</th>\n",
       "      <td>5001711</td>\n",
       "      <td>-1</td>\n",
       "      <td>0</td>\n",
       "    </tr>\n",
       "    <tr>\n",
       "      <th>2</th>\n",
       "      <td>5001711</td>\n",
       "      <td>-2</td>\n",
       "      <td>0</td>\n",
       "    </tr>\n",
       "    <tr>\n",
       "      <th>3</th>\n",
       "      <td>5001711</td>\n",
       "      <td>-3</td>\n",
       "      <td>0</td>\n",
       "    </tr>\n",
       "    <tr>\n",
       "      <th>4</th>\n",
       "      <td>5001712</td>\n",
       "      <td>0</td>\n",
       "      <td>C</td>\n",
       "    </tr>\n",
       "  </tbody>\n",
       "</table>\n",
       "</div>"
      ],
      "text/plain": [
       "        ID  MONTHS_BALANCE STATUS\n",
       "0  5001711               0      X\n",
       "1  5001711              -1      0\n",
       "2  5001711              -2      0\n",
       "3  5001711              -3      0\n",
       "4  5001712               0      C"
      ]
     },
     "execution_count": 95,
     "metadata": {},
     "output_type": "execute_result"
    }
   ],
   "source": [
    "paid_record.head()"
   ]
  },
  {
   "cell_type": "code",
   "execution_count": 96,
   "id": "80c5c5a5",
   "metadata": {},
   "outputs": [
    {
     "data": {
      "text/html": [
       "<div>\n",
       "<style scoped>\n",
       "    .dataframe tbody tr th:only-of-type {\n",
       "        vertical-align: middle;\n",
       "    }\n",
       "\n",
       "    .dataframe tbody tr th {\n",
       "        vertical-align: top;\n",
       "    }\n",
       "\n",
       "    .dataframe thead th {\n",
       "        text-align: right;\n",
       "    }\n",
       "</style>\n",
       "<table border=\"1\" class=\"dataframe\">\n",
       "  <thead>\n",
       "    <tr style=\"text-align: right;\">\n",
       "      <th></th>\n",
       "      <th>ID</th>\n",
       "      <th>MONTHS_BALANCE</th>\n",
       "      <th>STATUS</th>\n",
       "    </tr>\n",
       "  </thead>\n",
       "  <tbody>\n",
       "    <tr>\n",
       "      <th>0</th>\n",
       "      <td>5001711</td>\n",
       "      <td>0</td>\n",
       "      <td>0</td>\n",
       "    </tr>\n",
       "    <tr>\n",
       "      <th>1</th>\n",
       "      <td>5001711</td>\n",
       "      <td>-1</td>\n",
       "      <td>0</td>\n",
       "    </tr>\n",
       "    <tr>\n",
       "      <th>2</th>\n",
       "      <td>5001711</td>\n",
       "      <td>-2</td>\n",
       "      <td>0</td>\n",
       "    </tr>\n",
       "    <tr>\n",
       "      <th>3</th>\n",
       "      <td>5001711</td>\n",
       "      <td>-3</td>\n",
       "      <td>0</td>\n",
       "    </tr>\n",
       "    <tr>\n",
       "      <th>4</th>\n",
       "      <td>5001712</td>\n",
       "      <td>0</td>\n",
       "      <td>0</td>\n",
       "    </tr>\n",
       "  </tbody>\n",
       "</table>\n",
       "</div>"
      ],
      "text/plain": [
       "        ID  MONTHS_BALANCE STATUS\n",
       "0  5001711               0      0\n",
       "1  5001711              -1      0\n",
       "2  5001711              -2      0\n",
       "3  5001711              -3      0\n",
       "4  5001712               0      0"
      ]
     },
     "execution_count": 96,
     "metadata": {},
     "output_type": "execute_result"
    }
   ],
   "source": [
    "# Replace C and X for 0\n",
    "\n",
    "paid_record['STATUS'] = paid_record['STATUS'].str.replace('C', '0')\n",
    "\n",
    "paid_record['STATUS'] = paid_record['STATUS'].str.replace('X', '0')\n",
    "\n",
    "# Head of paid_record\n",
    "\n",
    "paid_record.head()"
   ]
  },
  {
   "cell_type": "code",
   "execution_count": 97,
   "id": "bdc6ea08",
   "metadata": {},
   "outputs": [],
   "source": [
    "# Convert the 'STATUS' values to int\n",
    "\n",
    "paid_record['STATUS'] = paid_record['STATUS'].astype(int)"
   ]
  },
  {
   "cell_type": "code",
   "execution_count": 98,
   "id": "e79c34ed",
   "metadata": {},
   "outputs": [],
   "source": [
    "# SUM STATUS BY ID\n",
    "\n",
    "paid_record = paid_record.groupby(['ID']).sum()"
   ]
  },
  {
   "cell_type": "code",
   "execution_count": 99,
   "id": "75b35f5b",
   "metadata": {},
   "outputs": [],
   "source": [
    "# Sum of STATUS\n",
    "\n",
    "multilabel = paid_record.sort_values(by=['STATUS'], ascending=False)"
   ]
  },
  {
   "cell_type": "code",
   "execution_count": 100,
   "id": "f27855f1",
   "metadata": {},
   "outputs": [
    {
     "data": {
      "text/html": [
       "<div>\n",
       "<style scoped>\n",
       "    .dataframe tbody tr th:only-of-type {\n",
       "        vertical-align: middle;\n",
       "    }\n",
       "\n",
       "    .dataframe tbody tr th {\n",
       "        vertical-align: top;\n",
       "    }\n",
       "\n",
       "    .dataframe thead th {\n",
       "        text-align: right;\n",
       "    }\n",
       "</style>\n",
       "<table border=\"1\" class=\"dataframe\">\n",
       "  <thead>\n",
       "    <tr style=\"text-align: right;\">\n",
       "      <th></th>\n",
       "      <th>MONTHS_BALANCE</th>\n",
       "      <th>STATUS</th>\n",
       "    </tr>\n",
       "    <tr>\n",
       "      <th>ID</th>\n",
       "      <th></th>\n",
       "      <th></th>\n",
       "    </tr>\n",
       "  </thead>\n",
       "  <tbody>\n",
       "    <tr>\n",
       "      <th>5142361</th>\n",
       "      <td>-1770</td>\n",
       "      <td>4</td>\n",
       "    </tr>\n",
       "    <tr>\n",
       "      <th>5142362</th>\n",
       "      <td>-1770</td>\n",
       "      <td>4</td>\n",
       "    </tr>\n",
       "    <tr>\n",
       "      <th>5085886</th>\n",
       "      <td>-1830</td>\n",
       "      <td>4</td>\n",
       "    </tr>\n",
       "    <tr>\n",
       "      <th>5117313</th>\n",
       "      <td>-1378</td>\n",
       "      <td>4</td>\n",
       "    </tr>\n",
       "    <tr>\n",
       "      <th>5116304</th>\n",
       "      <td>-1653</td>\n",
       "      <td>4</td>\n",
       "    </tr>\n",
       "  </tbody>\n",
       "</table>\n",
       "</div>"
      ],
      "text/plain": [
       "         MONTHS_BALANCE  STATUS\n",
       "ID                             \n",
       "5142361           -1770       4\n",
       "5142362           -1770       4\n",
       "5085886           -1830       4\n",
       "5117313           -1378       4\n",
       "5116304           -1653       4"
      ]
     },
     "execution_count": 100,
     "metadata": {},
     "output_type": "execute_result"
    }
   ],
   "source": [
    "# If STATUS  is higher between 1 and 60, change to 1. If it's between 61-120 then change to 2,   If it's between 121-180 then change to 3, If it's between 181-240 then change to 4.\n",
    "\n",
    "multilabel['STATUS'] = multilabel['STATUS'].apply(lambda x: 1 if x >= 1 and x <= 60 else 2 if x >= 61 and x <= 120 else 3 if x >= 121 and x <= 180 else 4 if x >= 181 and x <= 240 else 0)\n",
    "\n",
    "# Head of multilabel\n",
    "\n",
    "multilabel.head()"
   ]
  },
  {
   "cell_type": "code",
   "execution_count": 101,
   "id": "8e76bdd9",
   "metadata": {},
   "outputs": [
    {
     "data": {
      "text/plain": [
       "0    40635\n",
       "1     5295\n",
       "2       38\n",
       "4        9\n",
       "3        8\n",
       "Name: STATUS, dtype: int64"
      ]
     },
     "execution_count": 101,
     "metadata": {},
     "output_type": "execute_result"
    }
   ],
   "source": [
    "# Distinct values of STATUS\n",
    "\n",
    "multilabel['STATUS'].value_counts()"
   ]
  },
  {
   "cell_type": "markdown",
   "id": "4544fbf1",
   "metadata": {},
   "source": [
    "We join the final multilabel table with the rest of the variables by means of the ID."
   ]
  },
  {
   "cell_type": "code",
   "execution_count": 102,
   "id": "f31197b8",
   "metadata": {},
   "outputs": [],
   "source": [
    "# Merge df and paid_record by ID\n",
    "\n",
    "final_df_multilabel = pd.merge(df, multilabel, on='ID', how='inner')"
   ]
  },
  {
   "cell_type": "markdown",
   "id": "7f4758e5",
   "metadata": {},
   "source": [
    "Export the dataframe in CSV"
   ]
  },
  {
   "cell_type": "code",
   "execution_count": 177,
   "id": "23b346a5",
   "metadata": {},
   "outputs": [],
   "source": [
    "# Export final_df to csv\n",
    "\n",
    "final_df_multilabel.to_csv('data/processed/final_df_multilabel.csv', index=False)"
   ]
  }
 ],
 "metadata": {
  "kernelspec": {
   "display_name": "Python 3 (ipykernel)",
   "language": "python",
   "name": "python3"
  },
  "language_info": {
   "codemirror_mode": {
    "name": "ipython",
    "version": 3
   },
   "file_extension": ".py",
   "mimetype": "text/x-python",
   "name": "python",
   "nbconvert_exporter": "python",
   "pygments_lexer": "ipython3",
   "version": "3.9.13"
  },
  "vscode": {
   "interpreter": {
    "hash": "f382a7865b9229ce9b85798aea6776726f38117c0209687d171e29eb6e416793"
   }
  }
 },
 "nbformat": 4,
 "nbformat_minor": 5
}
